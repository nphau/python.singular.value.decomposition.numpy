{
 "cells": [
  {
   "cell_type": "markdown",
   "metadata": {},
   "source": [
    "## SVD"
   ]
  },
  {
   "cell_type": "code",
   "execution_count": 2,
   "metadata": {},
   "outputs": [],
   "source": [
    "## Import Library\n",
    "import numpy as np"
   ]
  },
  {
   "cell_type": "code",
   "execution_count": 5,
   "metadata": {},
   "outputs": [
    {
     "name": "stdout",
     "output_type": "stream",
     "text": [
      "[[1 1 1 0 0]\n",
      " [3 3 3 0 0]\n",
      " [4 4 4 0 0]\n",
      " [5 5 5 0 0]\n",
      " [0 2 0 4 4]\n",
      " [0 0 0 5 5]\n",
      " [0 1 0 2 2]]\n"
     ]
    }
   ],
   "source": [
    "# define a matrix\n",
    "A = np.array([\n",
    "    [1, 1, 1, 0, 0], \n",
    "    [3, 3, 3, 0, 0],\n",
    "    [4, 4, 4, 0, 0],\n",
    "    [5, 5, 5, 0, 0],\n",
    "    [0, 2, 0, 4, 4],\n",
    "    [0, 0, 0, 5, 5],\n",
    "    [0, 1, 0, 2, 2]])\n",
    "print(A)"
   ]
  },
  {
   "cell_type": "code",
   "execution_count": 6,
   "metadata": {},
   "outputs": [],
   "source": [
    "# Compute the factor by Singular Value \n",
    "# Decomposition\n",
    "U, S, Vt = np.linalg.svd(A, full_matrices=False)"
   ]
  },
  {
   "cell_type": "code",
   "execution_count": 7,
   "metadata": {},
   "outputs": [
    {
     "name": "stdout",
     "output_type": "stream",
     "text": [
      "\n",
      "Factor of the given array by Singular Value Decomposition:\n",
      "\n",
      "U = [[-1.37599126e-01 -2.36114514e-02 -1.08084718e-02  5.60112034e-01\n",
      "  -3.75734575e-01]\n",
      " [-4.12797378e-01 -7.08343543e-02 -3.24254153e-02  2.06393278e-01\n",
      "   7.55974371e-01]\n",
      " [-5.50396503e-01 -9.44458057e-02 -4.32338870e-02 -7.24808963e-01\n",
      "  -1.84603760e-01]\n",
      " [-6.87995629e-01 -1.18057257e-01 -5.40423588e-02  3.43988797e-01\n",
      "  -2.30754700e-01]\n",
      " [-1.52775087e-01  5.91100963e-01  6.53650843e-01  2.58497890e-16\n",
      "   2.00000000e-01]\n",
      " [-7.22165140e-02  7.31311857e-01 -6.78209218e-01  0.00000000e+00\n",
      "   0.00000000e+00]\n",
      " [-7.63875433e-02  2.95550482e-01  3.26825421e-01  1.29248945e-16\n",
      "  -4.00000000e-01]] \n",
      "\n",
      "S = [1.24810147e+01 9.50861406e+00 1.34555971e+00 3.04642685e-16\n",
      " 0.00000000e+00] \n",
      "\n",
      "V= [[-5.62258405e-01 -5.92859901e-01 -5.62258405e-01 -9.01335372e-02\n",
      "  -9.01335372e-02]\n",
      " [-1.26641382e-01  2.87705846e-02 -1.26641382e-01  6.95376220e-01\n",
      "   6.95376220e-01]\n",
      " [-4.09667482e-01  8.04791520e-01 -4.09667482e-01 -9.12571001e-02\n",
      "  -9.12571001e-02]\n",
      " [-7.07106781e-01  1.11022302e-16  7.07106781e-01  5.55111512e-17\n",
      "   0.00000000e+00]\n",
      " [ 0.00000000e+00 -4.87723954e-17  4.87723954e-17 -7.07106781e-01\n",
      "   7.07106781e-01]]\n"
     ]
    }
   ],
   "source": [
    "# Print the result\n",
    "print(\"\\nFactor of the given array by Singular Value Decomposition:\")\n",
    "print(\"\\nU =\", U, \"\\n\\nS =\", S, \"\\n\\nV=\", Vt)"
   ]
  },
  {
   "cell_type": "code",
   "execution_count": 26,
   "metadata": {},
   "outputs": [
    {
     "name": "stdout",
     "output_type": "stream",
     "text": [
      "Norm of col1 of U: 1.0\n",
      "Norm of col2 of U: 1.0\n",
      "Norm of col1 of Vt: 0.9545214\n",
      "Norm of col2 of Vt: 0.8944272\n",
      "U.U* [[ 0.9891963   0.05606773 -0.07972414  0.03446018]\n",
      " [ 0.05606773  0.7090282   0.41374046 -0.17883636]\n",
      " [-0.07972414  0.41374046  0.41169152  0.25429216]\n",
      " [ 0.03446018 -0.17883636  0.25429216  0.8900841 ]]\n",
      "V.V* [[ 1.0000001e+00 -9.0690691e-09  1.7486492e-08]\n",
      " [-9.0690691e-09  9.9999994e-01 -1.4670803e-08]\n",
      " [ 1.7486492e-08 -1.4670803e-08  1.0000000e+00]]\n"
     ]
    }
   ],
   "source": [
    "# Orthogonal\n",
    "print ('Norm of col1 of U:', np.linalg.norm(U[:,0]))\n",
    "print ('Norm of col2 of U:', np.linalg.norm(U[:,1]))\n",
    "print ('Norm of col1 of Vt:', np.linalg.norm(V[:,0]))\n",
    "print ('Norm of col2 of Vt:', np.linalg.norm(V[:,1]))\n",
    "\n",
    "print (\"U.U*\", np.dot(U, np.transpose(U)))\n",
    "print (\"V.V*\", np.dot(Vt, np.transpose(Vt)))"
   ]
  }
 ],
 "metadata": {
  "interpreter": {
   "hash": "31f2aee4e71d21fbe5cf8b01ff0e069b9275f58929596ceb00d14d90e3e16cd6"
  },
  "kernelspec": {
   "display_name": "Python 3.8.2 64-bit",
   "name": "python3"
  },
  "language_info": {
   "codemirror_mode": {
    "name": "ipython",
    "version": 3
   },
   "file_extension": ".py",
   "mimetype": "text/x-python",
   "name": "python",
   "nbconvert_exporter": "python",
   "pygments_lexer": "ipython3",
   "version": "3.9.7"
  }
 },
 "nbformat": 4,
 "nbformat_minor": 2
}
