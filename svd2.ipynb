{
 "cells": [
  {
   "cell_type": "markdown",
   "metadata": {},
   "source": [
    "## SVD"
   ]
  },
  {
   "cell_type": "code",
   "execution_count": 1,
   "metadata": {},
   "outputs": [],
   "source": [
    "## Import Library\n",
    "import numpy as np"
   ]
  },
  {
   "cell_type": "code",
   "execution_count": 14,
   "metadata": {},
   "outputs": [
    {
     "name": "stdout",
     "output_type": "stream",
     "text": [
      "[[ 1.  2.  3.]\n",
      " [ 4.  5.  6.]\n",
      " [ 7.  8.  9.]\n",
      " [10. 11. 12.]]\n"
     ]
    }
   ],
   "source": [
    "# define a matrix\n",
    "A = np.array([[1,2,3], [4,5,6], [7,8,9], [10,11,12]],dtype=np.float32)\n",
    "print(A)"
   ]
  },
  {
   "cell_type": "code",
   "execution_count": 16,
   "metadata": {},
   "outputs": [],
   "source": [
    "# Compute the factor by Singular Value \n",
    "# Decomposition\n",
    "U, S, Vt = np.linalg.svd(A, full_matrices=False)"
   ]
  },
  {
   "cell_type": "code",
   "execution_count": 17,
   "metadata": {},
   "outputs": [
    {
     "name": "stdout",
     "output_type": "stream",
     "text": [
      "\n",
      "Factor of the given array  by Singular Value Decomposition:\n",
      "\n",
      "U = [[-0.14087668 -0.82471436  0.5377697 ]\n",
      " [-0.3439463  -0.42626393 -0.6395531 ]\n",
      " [-0.5470159  -0.02781353 -0.33420283]\n",
      " [-0.75008553  0.37063688  0.43598625]] \n",
      "\n",
      "S = [2.5462408e+01 1.2906617e+00 2.3117338e-15] \n",
      "\n",
      "V= [[-0.5045332  -0.5745157  -0.6444983 ]\n",
      " [ 0.7607757   0.05714052 -0.6464946 ]\n",
      " [-0.4082483   0.8164966  -0.4082483 ]]\n"
     ]
    }
   ],
   "source": [
    "# Print the result\n",
    "print(\"\\nFactor of the given array by Singular Value Decomposition:\")\n",
    "print(\"\\nU =\", U, \"\\n\\nS =\", S, \"\\n\\nV=\", Vt)"
   ]
  },
  {
   "cell_type": "code",
   "execution_count": 26,
   "metadata": {},
   "outputs": [
    {
     "name": "stdout",
     "output_type": "stream",
     "text": [
      "Norm of col1 of U: 1.0\n",
      "Norm of col2 of U: 1.0\n",
      "Norm of col1 of Vt: 0.9545214\n",
      "Norm of col2 of Vt: 0.8944272\n",
      "U.U* [[ 0.9891963   0.05606773 -0.07972414  0.03446018]\n",
      " [ 0.05606773  0.7090282   0.41374046 -0.17883636]\n",
      " [-0.07972414  0.41374046  0.41169152  0.25429216]\n",
      " [ 0.03446018 -0.17883636  0.25429216  0.8900841 ]]\n",
      "V.V* [[ 1.0000001e+00 -9.0690691e-09  1.7486492e-08]\n",
      " [-9.0690691e-09  9.9999994e-01 -1.4670803e-08]\n",
      " [ 1.7486492e-08 -1.4670803e-08  1.0000000e+00]]\n"
     ]
    }
   ],
   "source": [
    "# Orthogonal\n",
    "print ('Norm of col1 of U:', np.linalg.norm(U[:,0]))\n",
    "print ('Norm of col2 of U:', np.linalg.norm(U[:,1]))\n",
    "print ('Norm of col1 of Vt:', np.linalg.norm(V[:,0]))\n",
    "print ('Norm of col2 of Vt:', np.linalg.norm(V[:,1]))\n",
    "\n",
    "print (\"U.U*\", np.dot(U, np.transpose(U)))\n",
    "print (\"V.V*\", np.dot(Vt, np.transpose(Vt)))"
   ]
  }
 ],
 "metadata": {
  "interpreter": {
   "hash": "31f2aee4e71d21fbe5cf8b01ff0e069b9275f58929596ceb00d14d90e3e16cd6"
  },
  "kernelspec": {
   "display_name": "Python 3.8.2 64-bit",
   "name": "python3"
  },
  "language_info": {
   "codemirror_mode": {
    "name": "ipython",
    "version": 3
   },
   "file_extension": ".py",
   "mimetype": "text/x-python",
   "name": "python",
   "nbconvert_exporter": "python",
   "pygments_lexer": "ipython3",
   "version": "3.9.9"
  }
 },
 "nbformat": 4,
 "nbformat_minor": 2
}
